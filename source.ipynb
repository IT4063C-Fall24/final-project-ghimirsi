{
 "cells": [
  {
   "attachments": {},
   "cell_type": "markdown",
   "metadata": {},
   "source": [
    "# Analyzing Consumer Trends in Cereal Consumption: A Demographic and Marketing Perspective📝\n",
    "\n",
    "![Banner](./assets/banner.jpeg)"
   ]
  },
  {
   "attachments": {},
   "cell_type": "markdown",
   "metadata": {},
   "source": [
    "## Topic\n",
    "*What problem are you (or your stakeholder) trying to address?*\n",
    "📝 <!-- Answer Below -->\n",
    "The projects goal is to examine the factors that affect cereal consumption patterns across groups in order to assist cereal producers and sellers in customizing their products and marketing approaches to suit consumer tastes better. Understanding these trends is essential, for identifying market openings and guiding public health efforts by taking into account the effects of cereal consumption. "
   ]
  },
  {
   "attachments": {},
   "cell_type": "markdown",
   "metadata": {},
   "source": [
    "## Project Question\n",
    "*What specific question are you seeking to answer with this project?*\n",
    "*This is not the same as the questions you ask to limit the scope of the project.*\n",
    "📝 <!-- Answer Below -->\n",
    "1. What demographic factors such, as age groupings income levels and educational backgrounds impact the consumption of cereals? \n",
    "\n",
    "2. What are the top cereal brands favored by segments? \n",
    "\n",
    "3. What effect do marketing tactics, for cereals have on the decisions made by consumers? \n"
   ]
  },
  {
   "attachments": {},
   "cell_type": "markdown",
   "metadata": {},
   "source": [
    "## What would an answer look like?\n",
    "*What is your hypothesized answer to your question?*\n",
    "📝 <!-- Answer Below -->\n",
    "1. A detailed analysis of how various demographic groups consume cereal products and how these patterns are represented graphically using bar charts or pie charts to illustrate the relationship, between factors and consumption levels.\n",
    "\n",
    "2. A list showing the popularity of cereal brands, among age groups or income levels in a bar graph, with stacked bars has been compiled and ranked. \n",
    "\n",
    "3. Insights, on the impact of marketing strategies like social media campaigns and TV advertisements on consumer purchasing behaviors can be demonstrated through a sequence of marketing events along with sales data, over time. "
   ]
  },
  {
   "attachments": {},
   "cell_type": "markdown",
   "metadata": {},
   "source": [
    "## Data Sources\n",
    "*What 3 data sources have you identified for this project?*\n",
    "*How are you going to relate these datasets?*\n",
    "📝 <!-- Answer Below -->\n",
    "\n",
    "1. Cereal Consumption Data (CSV):\n",
    "https://www.kaggle.com/datasets/crawford/80-cereals\n",
    "\n",
    "2. Cereal Popularity Data (CSV):\n",
    "https://www.kaggle.com/datasets/yangshun/cereal-popularity\n",
    "\n",
    "3. U.S. Census Demographic Data (API):\n",
    "https://api.census.gov/data.html\n",
    "\n",
    "To relate the datasets effectively, I will first merge the cereal consumption data with the cereal popularity data based on common demographic attributes such as age, income, and education level. This will allow for a deeper understanding of how different demographic groups consume various cereal brands. Next, I will integrate the U.S. Census demographic data by matching identifiers like age group and income range to enrich the analysis of consumption patterns. Additionally, I will assess the influence of marketing efforts by correlating historical marketing expenditures with changes in consumption over time, providing insights into the factors driving cereal consumption trends across demographics.\n",
    "\n",
    "\n",
    "\n",
    "\n",
    "\n",
    "\n",
    "\n",
    "\n"
   ]
  },
  {
   "attachments": {},
   "cell_type": "markdown",
   "metadata": {},
   "source": [
    "## Approach and Analysis\n",
    "*What is your approach to answering your project question?*\n",
    "*How will you use the identified data to answer your project question?*\n",
    "📝 <!-- Start Discussing the project here; you can add as many code cells as you need -->"
   ]
  },
  {
   "cell_type": "markdown",
   "metadata": {},
   "source": [
    "To address the project questions on cereal consumption trends, I will first prepare the data by loading and cleaning the datasets to ensure accuracy. Then, I will conduct exploratory data analysis (EDA) to identify patterns in cereal consumption and brand popularity across various demographics using visualizations like histograms and bar charts. Next, I will merge the cereal consumption data with the popularity data based on demographic attributes and integrate U.S. Census data for deeper analysis. I will perform statistical tests, including regression analysis, to determine significant relationships between demographic factors and cereal consumption, as well as assess the impact of marketing expenditures over time. Finally, I will create visual representations of the findings and summarize key insights to provide actionable recommendations for stakeholders in the food industry. This structured approach will effectively utilize the identified datasets to answer the project questions and yield valuable insights into cereal consumption trends."
   ]
  },
  {
   "attachments": {},
   "cell_type": "markdown",
   "metadata": {},
   "source": [
    "## Resources and References\n",
    "*What resources and references have you used for this project?*\n",
    "📝 <!-- Answer Below -->"
   ]
  },
  {
   "cell_type": "code",
   "execution_count": 12,
   "metadata": {},
   "outputs": [
    {
     "name": "stderr",
     "output_type": "stream",
     "text": [
      "[NbConvertApp] Converting notebook source.ipynb to python\n",
      "[NbConvertApp] Writing 4696 bytes to source.py\n"
     ]
    }
   ],
   "source": [
    "# ⚠️ Make sure you run this cell at the end of your notebook before every submission!\n",
    "!jupyter nbconvert --to python source.ipynb"
   ]
  }
 ],
 "metadata": {
  "kernelspec": {
   "display_name": "final-project-ghimirsi-iRt8TnBx",
   "language": "python",
   "name": "python3"
  },
  "language_info": {
   "codemirror_mode": {
    "name": "ipython",
    "version": 3
   },
   "file_extension": ".py",
   "mimetype": "text/x-python",
   "name": "python",
   "nbconvert_exporter": "python",
   "pygments_lexer": "ipython3",
   "version": "3.11.5"
  },
  "orig_nbformat": 4
 },
 "nbformat": 4,
 "nbformat_minor": 2
}
